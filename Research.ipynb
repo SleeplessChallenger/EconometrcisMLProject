{
 "cells": [
  {
   "cell_type": "code",
   "execution_count": 1,
   "metadata": {},
   "outputs": [],
   "source": [
    "import pandas as pd\n",
    "import numpy as np\n",
    "import matplotlib.pyplot as plt\n",
    "from sklearn import linear_model\n",
    "import statsmodels.api as sm\n",
    "pd.options.display.max_columns=None\n",
    "pd.options.display.max_rows=None\n",
    "import statsmodels.api as sm"
   ]
  },
  {
   "cell_type": "code",
   "execution_count": 2,
   "metadata": {},
   "outputs": [
    {
     "data": {
      "text/html": [
       "<div>\n",
       "<style scoped>\n",
       "    .dataframe tbody tr th:only-of-type {\n",
       "        vertical-align: middle;\n",
       "    }\n",
       "\n",
       "    .dataframe tbody tr th {\n",
       "        vertical-align: top;\n",
       "    }\n",
       "\n",
       "    .dataframe thead th {\n",
       "        text-align: right;\n",
       "    }\n",
       "</style>\n",
       "<table border=\"1\" class=\"dataframe\">\n",
       "  <thead>\n",
       "    <tr style=\"text-align: right;\">\n",
       "      <th></th>\n",
       "      <th>Country</th>\n",
       "      <th>Year</th>\n",
       "      <th>Status</th>\n",
       "      <th>Life expectancy</th>\n",
       "      <th>Adult Mortality</th>\n",
       "      <th>infant deaths</th>\n",
       "      <th>Alcohol</th>\n",
       "      <th>percentage expenditure</th>\n",
       "      <th>Hepatitis B</th>\n",
       "      <th>Measles</th>\n",
       "      <th>BMI</th>\n",
       "      <th>under-five deaths</th>\n",
       "      <th>Polio</th>\n",
       "      <th>Total expenditure</th>\n",
       "      <th>Diphtheria</th>\n",
       "      <th>HIV/AIDS</th>\n",
       "      <th>GDP</th>\n",
       "      <th>Population</th>\n",
       "      <th>thinness  1-19 years</th>\n",
       "      <th>thinness 5-9 years</th>\n",
       "      <th>Income composition of resources</th>\n",
       "      <th>Schooling</th>\n",
       "    </tr>\n",
       "  </thead>\n",
       "  <tbody>\n",
       "    <tr>\n",
       "      <th>0</th>\n",
       "      <td>Afghanistan</td>\n",
       "      <td>2015</td>\n",
       "      <td>Developing</td>\n",
       "      <td>65.0</td>\n",
       "      <td>263.0</td>\n",
       "      <td>62</td>\n",
       "      <td>0.01</td>\n",
       "      <td>71.279624</td>\n",
       "      <td>65.0</td>\n",
       "      <td>1154</td>\n",
       "      <td>19.1</td>\n",
       "      <td>83</td>\n",
       "      <td>6.0</td>\n",
       "      <td>8.16</td>\n",
       "      <td>65.0</td>\n",
       "      <td>0.1</td>\n",
       "      <td>584.259210</td>\n",
       "      <td>33736494.0</td>\n",
       "      <td>17.2</td>\n",
       "      <td>17.3</td>\n",
       "      <td>0.479</td>\n",
       "      <td>10.1</td>\n",
       "    </tr>\n",
       "    <tr>\n",
       "      <th>1</th>\n",
       "      <td>Afghanistan</td>\n",
       "      <td>2014</td>\n",
       "      <td>Developing</td>\n",
       "      <td>59.9</td>\n",
       "      <td>271.0</td>\n",
       "      <td>64</td>\n",
       "      <td>0.01</td>\n",
       "      <td>73.523582</td>\n",
       "      <td>62.0</td>\n",
       "      <td>492</td>\n",
       "      <td>18.6</td>\n",
       "      <td>86</td>\n",
       "      <td>58.0</td>\n",
       "      <td>8.18</td>\n",
       "      <td>62.0</td>\n",
       "      <td>0.1</td>\n",
       "      <td>612.696514</td>\n",
       "      <td>327582.0</td>\n",
       "      <td>17.5</td>\n",
       "      <td>17.5</td>\n",
       "      <td>0.476</td>\n",
       "      <td>10.0</td>\n",
       "    </tr>\n",
       "    <tr>\n",
       "      <th>2</th>\n",
       "      <td>Afghanistan</td>\n",
       "      <td>2013</td>\n",
       "      <td>Developing</td>\n",
       "      <td>59.9</td>\n",
       "      <td>268.0</td>\n",
       "      <td>66</td>\n",
       "      <td>0.01</td>\n",
       "      <td>73.219243</td>\n",
       "      <td>64.0</td>\n",
       "      <td>430</td>\n",
       "      <td>18.1</td>\n",
       "      <td>89</td>\n",
       "      <td>62.0</td>\n",
       "      <td>8.13</td>\n",
       "      <td>64.0</td>\n",
       "      <td>0.1</td>\n",
       "      <td>631.744976</td>\n",
       "      <td>31731688.0</td>\n",
       "      <td>17.7</td>\n",
       "      <td>17.7</td>\n",
       "      <td>0.470</td>\n",
       "      <td>9.9</td>\n",
       "    </tr>\n",
       "    <tr>\n",
       "      <th>3</th>\n",
       "      <td>Afghanistan</td>\n",
       "      <td>2012</td>\n",
       "      <td>Developing</td>\n",
       "      <td>59.5</td>\n",
       "      <td>272.0</td>\n",
       "      <td>69</td>\n",
       "      <td>0.01</td>\n",
       "      <td>78.184215</td>\n",
       "      <td>67.0</td>\n",
       "      <td>2787</td>\n",
       "      <td>17.6</td>\n",
       "      <td>93</td>\n",
       "      <td>67.0</td>\n",
       "      <td>8.52</td>\n",
       "      <td>67.0</td>\n",
       "      <td>0.1</td>\n",
       "      <td>669.959000</td>\n",
       "      <td>3696958.0</td>\n",
       "      <td>17.9</td>\n",
       "      <td>18.0</td>\n",
       "      <td>0.463</td>\n",
       "      <td>9.8</td>\n",
       "    </tr>\n",
       "  </tbody>\n",
       "</table>\n",
       "</div>"
      ],
      "text/plain": [
       "       Country  Year      Status  Life expectancy   Adult Mortality  \\\n",
       "0  Afghanistan  2015  Developing              65.0            263.0   \n",
       "1  Afghanistan  2014  Developing              59.9            271.0   \n",
       "2  Afghanistan  2013  Developing              59.9            268.0   \n",
       "3  Afghanistan  2012  Developing              59.5            272.0   \n",
       "\n",
       "   infant deaths  Alcohol  percentage expenditure  Hepatitis B  Measles   \\\n",
       "0             62     0.01               71.279624         65.0      1154   \n",
       "1             64     0.01               73.523582         62.0       492   \n",
       "2             66     0.01               73.219243         64.0       430   \n",
       "3             69     0.01               78.184215         67.0      2787   \n",
       "\n",
       "    BMI   under-five deaths   Polio  Total expenditure  Diphtheria   \\\n",
       "0   19.1                  83    6.0               8.16         65.0   \n",
       "1   18.6                  86   58.0               8.18         62.0   \n",
       "2   18.1                  89   62.0               8.13         64.0   \n",
       "3   17.6                  93   67.0               8.52         67.0   \n",
       "\n",
       "    HIV/AIDS         GDP  Population   thinness  1-19 years  \\\n",
       "0        0.1  584.259210  33736494.0                   17.2   \n",
       "1        0.1  612.696514    327582.0                   17.5   \n",
       "2        0.1  631.744976  31731688.0                   17.7   \n",
       "3        0.1  669.959000   3696958.0                   17.9   \n",
       "\n",
       "    thinness 5-9 years  Income composition of resources  Schooling  \n",
       "0                 17.3                            0.479       10.1  \n",
       "1                 17.5                            0.476       10.0  \n",
       "2                 17.7                            0.470        9.9  \n",
       "3                 18.0                            0.463        9.8  "
      ]
     },
     "execution_count": 2,
     "metadata": {},
     "output_type": "execute_result"
    }
   ],
   "source": [
    "df = pd.read_csv('Life Expectancy Data.csv')\n",
    "df.head(4)"
   ]
  },
  {
   "cell_type": "code",
   "execution_count": 3,
   "metadata": {},
   "outputs": [],
   "source": [
    "df.to_excel('DataSet.xlsx')"
   ]
  },
  {
   "cell_type": "code",
   "execution_count": 4,
   "metadata": {},
   "outputs": [
    {
     "data": {
      "text/plain": [
       "Country                              0\n",
       "Year                                 0\n",
       "Status                               0\n",
       "Life expectancy                     10\n",
       "Adult Mortality                     10\n",
       "infant deaths                        0\n",
       "Alcohol                            194\n",
       "percentage expenditure               0\n",
       "Hepatitis B                        553\n",
       "Measles                              0\n",
       " BMI                                34\n",
       "under-five deaths                    0\n",
       "Polio                               19\n",
       "Total expenditure                  226\n",
       "Diphtheria                          19\n",
       " HIV/AIDS                            0\n",
       "GDP                                448\n",
       "Population                         652\n",
       " thinness  1-19 years               34\n",
       " thinness 5-9 years                 34\n",
       "Income composition of resources    167\n",
       "Schooling                          163\n",
       "dtype: int64"
      ]
     },
     "execution_count": 4,
     "metadata": {},
     "output_type": "execute_result"
    }
   ],
   "source": [
    "df.isna().sum()"
   ]
  },
  {
   "cell_type": "code",
   "execution_count": 5,
   "metadata": {},
   "outputs": [],
   "source": [
    "df['Population'].fillna((df['Population'].mean()), inplace=True)\n",
    "df['Adult Mortality'].fillna((df['Adult Mortality'].mean()), inplace=True)\n",
    "df['infant deaths'].fillna((df['infant deaths'].mean()), inplace=True)\n",
    "df['GDP'].fillna((df['GDP'].mean()), inplace=True)\n",
    "df['Schooling'].fillna((df['Schooling'].mean()), inplace=True)\n",
    "df['percentage expenditure'].fillna((df['percentage expenditure'].mean()), inplace=True)\n",
    "df['Life expectancy '].fillna((df['Life expectancy '].mean()), inplace=True)\n",
    "df['Alcohol'].fillna((df['Alcohol'].mean()), inplace=True)"
   ]
  },
  {
   "cell_type": "code",
   "execution_count": 6,
   "metadata": {
    "scrolled": true
   },
   "outputs": [
    {
     "data": {
      "text/html": [
       "<div>\n",
       "<style scoped>\n",
       "    .dataframe tbody tr th:only-of-type {\n",
       "        vertical-align: middle;\n",
       "    }\n",
       "\n",
       "    .dataframe tbody tr th {\n",
       "        vertical-align: top;\n",
       "    }\n",
       "\n",
       "    .dataframe thead th {\n",
       "        text-align: right;\n",
       "    }\n",
       "</style>\n",
       "<table border=\"1\" class=\"dataframe\">\n",
       "  <thead>\n",
       "    <tr style=\"text-align: right;\">\n",
       "      <th></th>\n",
       "      <th>Population</th>\n",
       "      <th>Adult Mortality</th>\n",
       "      <th>infant deaths</th>\n",
       "      <th>GDP</th>\n",
       "      <th>Schooling</th>\n",
       "      <th>percentage expenditure</th>\n",
       "      <th>Life expectancy</th>\n",
       "      <th>Alcohol</th>\n",
       "    </tr>\n",
       "  </thead>\n",
       "  <tbody>\n",
       "    <tr>\n",
       "      <th>count</th>\n",
       "      <td>2.938000e+03</td>\n",
       "      <td>2938.000000</td>\n",
       "      <td>2938.000000</td>\n",
       "      <td>2938.000000</td>\n",
       "      <td>2938.000000</td>\n",
       "      <td>2938.000000</td>\n",
       "      <td>2938.000000</td>\n",
       "      <td>2938.000000</td>\n",
       "    </tr>\n",
       "    <tr>\n",
       "      <th>mean</th>\n",
       "      <td>1.275338e+07</td>\n",
       "      <td>164.796448</td>\n",
       "      <td>30.303948</td>\n",
       "      <td>7483.158469</td>\n",
       "      <td>11.992793</td>\n",
       "      <td>738.251295</td>\n",
       "      <td>69.224932</td>\n",
       "      <td>4.602861</td>\n",
       "    </tr>\n",
       "    <tr>\n",
       "      <th>std</th>\n",
       "      <td>5.381546e+07</td>\n",
       "      <td>124.080302</td>\n",
       "      <td>117.926501</td>\n",
       "      <td>13136.800417</td>\n",
       "      <td>3.264381</td>\n",
       "      <td>1987.914858</td>\n",
       "      <td>9.507640</td>\n",
       "      <td>3.916288</td>\n",
       "    </tr>\n",
       "    <tr>\n",
       "      <th>min</th>\n",
       "      <td>3.400000e+01</td>\n",
       "      <td>1.000000</td>\n",
       "      <td>0.000000</td>\n",
       "      <td>1.681350</td>\n",
       "      <td>0.000000</td>\n",
       "      <td>0.000000</td>\n",
       "      <td>36.300000</td>\n",
       "      <td>0.010000</td>\n",
       "    </tr>\n",
       "    <tr>\n",
       "      <th>25%</th>\n",
       "      <td>4.189172e+05</td>\n",
       "      <td>74.000000</td>\n",
       "      <td>0.000000</td>\n",
       "      <td>580.486996</td>\n",
       "      <td>10.300000</td>\n",
       "      <td>4.685343</td>\n",
       "      <td>63.200000</td>\n",
       "      <td>1.092500</td>\n",
       "    </tr>\n",
       "    <tr>\n",
       "      <th>50%</th>\n",
       "      <td>3.675929e+06</td>\n",
       "      <td>144.000000</td>\n",
       "      <td>3.000000</td>\n",
       "      <td>3116.561755</td>\n",
       "      <td>12.100000</td>\n",
       "      <td>64.912906</td>\n",
       "      <td>72.000000</td>\n",
       "      <td>4.160000</td>\n",
       "    </tr>\n",
       "    <tr>\n",
       "      <th>75%</th>\n",
       "      <td>1.275338e+07</td>\n",
       "      <td>227.000000</td>\n",
       "      <td>22.000000</td>\n",
       "      <td>7483.158469</td>\n",
       "      <td>14.100000</td>\n",
       "      <td>441.534144</td>\n",
       "      <td>75.600000</td>\n",
       "      <td>7.390000</td>\n",
       "    </tr>\n",
       "    <tr>\n",
       "      <th>max</th>\n",
       "      <td>1.293859e+09</td>\n",
       "      <td>723.000000</td>\n",
       "      <td>1800.000000</td>\n",
       "      <td>119172.741800</td>\n",
       "      <td>20.700000</td>\n",
       "      <td>19479.911610</td>\n",
       "      <td>89.000000</td>\n",
       "      <td>17.870000</td>\n",
       "    </tr>\n",
       "  </tbody>\n",
       "</table>\n",
       "</div>"
      ],
      "text/plain": [
       "         Population  Adult Mortality  infant deaths            GDP  \\\n",
       "count  2.938000e+03      2938.000000    2938.000000    2938.000000   \n",
       "mean   1.275338e+07       164.796448      30.303948    7483.158469   \n",
       "std    5.381546e+07       124.080302     117.926501   13136.800417   \n",
       "min    3.400000e+01         1.000000       0.000000       1.681350   \n",
       "25%    4.189172e+05        74.000000       0.000000     580.486996   \n",
       "50%    3.675929e+06       144.000000       3.000000    3116.561755   \n",
       "75%    1.275338e+07       227.000000      22.000000    7483.158469   \n",
       "max    1.293859e+09       723.000000    1800.000000  119172.741800   \n",
       "\n",
       "         Schooling  percentage expenditure  Life expectancy       Alcohol  \n",
       "count  2938.000000             2938.000000       2938.000000  2938.000000  \n",
       "mean     11.992793              738.251295         69.224932     4.602861  \n",
       "std       3.264381             1987.914858          9.507640     3.916288  \n",
       "min       0.000000                0.000000         36.300000     0.010000  \n",
       "25%      10.300000                4.685343         63.200000     1.092500  \n",
       "50%      12.100000               64.912906         72.000000     4.160000  \n",
       "75%      14.100000              441.534144         75.600000     7.390000  \n",
       "max      20.700000            19479.911610         89.000000    17.870000  "
      ]
     },
     "execution_count": 6,
     "metadata": {},
     "output_type": "execute_result"
    }
   ],
   "source": [
    "df[['Population','Adult Mortality','infant deaths','GDP','Schooling','percentage expenditure','Life expectancy ','Alcohol']].describe()"
   ]
  },
  {
   "cell_type": "code",
   "execution_count": 7,
   "metadata": {},
   "outputs": [
    {
     "data": {
      "image/png": "[encoded data removed]",
      "text/plain": [
       "<Figure size 432x288 with 1 Axes>"
      ]
     },
     "metadata": {
      "needs_background": "light"
     },
     "output_type": "display_data"
    }
   ],
   "source": [
    "plt.scatter(df['Population'],df['percentage expenditure'], color = 'red')\n",
    "plt.title(\"Population vs percentage expenditure\", fontsize = 14)\n",
    "plt.xlabel('Population',fontsize = 14)\n",
    "plt.ylabel('percentage expenditure', fontsize = 14)\n",
    "plt.grid(True)\n",
    "plt.show()"
   ]
  },
  {
   "cell_type": "code",
   "execution_count": 8,
   "metadata": {},
   "outputs": [
    {
     "data": {
      "image/png": "[encoded data removed]",
      "text/plain": [
       "<Figure size 432x288 with 1 Axes>"
      ]
     },
     "metadata": {
      "needs_background": "light"
     },
     "output_type": "display_data"
    }
   ],
   "source": [
    "plt.scatter(df['Population'],df['GDP'], color = 'red')\n",
    "plt.title(\"Population vs GDP\", fontsize = 14)\n",
    "plt.xlabel('Population',fontsize = 14)\n",
    "plt.ylabel('GDP', fontsize = 14)\n",
    "plt.grid(True)\n",
    "plt.show()"
   ]
  },
  {
   "cell_type": "code",
   "execution_count": 9,
   "metadata": {},
   "outputs": [
    {
     "data": {
      "image/png": "[encoded data removed]",
      "text/plain": [
       "<Figure size 432x288 with 1 Axes>"
      ]
     },
     "metadata": {
      "needs_background": "light"
     },
     "output_type": "display_data"
    }
   ],
   "source": [
    "plt.scatter(df['Population'],df['infant deaths'], color = 'red')\n",
    "plt.title(\"Population vs infant deaths\", fontsize = 14)\n",
    "plt.xlabel('Population',fontsize = 14)\n",
    "plt.ylabel('infant deaths', fontsize = 14)\n",
    "plt.grid(True)\n",
    "plt.show()"
   ]
  },
  {
   "cell_type": "code",
   "execution_count": 10,
   "metadata": {},
   "outputs": [
    {
     "data": {
      "image/png": "[encoded data removed]",
      "text/plain": [
       "<Figure size 432x288 with 1 Axes>"
      ]
     },
     "metadata": {
      "needs_background": "light"
     },
     "output_type": "display_data"
    }
   ],
   "source": [
    "plt.scatter(df['Population'],df['Alcohol'], color = 'red')\n",
    "plt.title(\"Population vs Alcohol\", fontsize = 14)\n",
    "plt.xlabel('Population',fontsize = 14)\n",
    "plt.ylabel('Alcohol', fontsize = 14)\n",
    "plt.grid(True)\n",
    "plt.show()"
   ]
  },
  {
   "cell_type": "markdown",
   "metadata": {},
   "source": [
    "Below will be correlation matrix"
   ]
  },
  {
   "cell_type": "code",
   "execution_count": 11,
   "metadata": {},
   "outputs": [
    {
     "data": {
      "image/png": "[encoded data removed]",
      "text/plain": [
       "<Figure size 432x288 with 2 Axes>"
      ]
     },
     "metadata": {
      "needs_background": "light"
     },
     "output_type": "display_data"
    }
   ],
   "source": [
    "import seaborn as sns\n",
    "\n",
    "import matplotlib.pyplot as plt\n",
    "\n",
    "\n",
    "correlation_mat = df[['Population','Adult Mortality','infant deaths','GDP','Schooling','percentage expenditure','Life expectancy ','Alcohol']].corr()\n",
    "\n",
    "sns.heatmap(correlation_mat, annot = True)\n",
    "\n",
    "plt.show()"
   ]
  },
  {
   "cell_type": "markdown",
   "metadata": {},
   "source": [
    "Next move is creation of regression"
   ]
  },
  {
   "cell_type": "code",
   "execution_count": 12,
   "metadata": {},
   "outputs": [],
   "source": [
    "Y = df['Population']\n",
    "X = df[['Adult Mortality','infant deaths','GDP','Schooling','percentage expenditure','Life expectancy ','Alcohol']]"
   ]
  },
  {
   "cell_type": "code",
   "execution_count": 13,
   "metadata": {},
   "outputs": [
    {
     "data": {
      "text/plain": [
       "LinearRegression()"
      ]
     },
     "execution_count": 13,
     "metadata": {},
     "output_type": "execute_result"
    }
   ],
   "source": [
    "regr = linear_model.LinearRegression()\n",
    "regr.fit(X,Y)"
   ]
  },
  {
   "cell_type": "code",
   "execution_count": 14,
   "metadata": {},
   "outputs": [
    {
     "name": "stdout",
     "output_type": "stream",
     "text": [
      "Intercept: \n",
      " -34588073.16544979\n",
      "Coefficients: \n",
      " [ 4.86730968e+03  2.59562516e+05  8.44334828e+01  5.44248649e+05\n",
      " -9.04724718e+02  4.72407562e+05 -1.12928368e+05]\n"
     ]
    }
   ],
   "source": [
    "print('Intercept: \\n', regr.intercept_)\n",
    "print('Coefficients: \\n', regr.coef_)"
   ]
  },
  {
   "cell_type": "code",
   "execution_count": 15,
   "metadata": {},
   "outputs": [
    {
     "name": "stdout",
     "output_type": "stream",
     "text": [
      "                            OLS Regression Results                            \n",
      "==============================================================================\n",
      "Dep. Variable:             Population   R-squared:                       0.310\n",
      "Model:                            OLS   Adj. R-squared:                  0.308\n",
      "Method:                 Least Squares   F-statistic:                     187.9\n",
      "Date:                Wed, 20 Jan 2021   Prob (F-statistic):          1.72e-230\n",
      "Time:                        17:49:07   Log-Likelihood:                -55923.\n",
      "No. Observations:                2938   AIC:                         1.119e+05\n",
      "Df Residuals:                    2930   BIC:                         1.119e+05\n",
      "Df Model:                           7                                         \n",
      "Covariance Type:            nonrobust                                         \n",
      "==========================================================================================\n",
      "                             coef    std err          t      P>|t|      [0.025      0.975]\n",
      "------------------------------------------------------------------------------------------\n",
      "const                  -3.459e+07   1.04e+07     -3.322      0.001    -5.5e+07   -1.42e+07\n",
      "Adult Mortality         4867.3097   9410.379      0.517      0.605   -1.36e+04    2.33e+04\n",
      "infant deaths           2.596e+05   7186.007     36.121      0.000    2.45e+05    2.74e+05\n",
      "GDP                       84.4335    140.783      0.600      0.549    -191.611     360.478\n",
      "Schooling               5.442e+05   3.91e+05      1.393      0.164   -2.22e+05    1.31e+06\n",
      "percentage expenditure  -904.7247    913.173     -0.991      0.322   -2695.250     885.801\n",
      "Life expectancy         4.724e+05   1.61e+05      2.939      0.003    1.57e+05    7.88e+05\n",
      "Alcohol                -1.129e+05   2.49e+05     -0.454      0.650   -6.01e+05    3.75e+05\n",
      "==============================================================================\n",
      "Omnibus:                     4744.070   Durbin-Watson:                   1.335\n",
      "Prob(Omnibus):                  0.000   Jarque-Bera (JB):          6401614.707\n",
      "Skew:                          10.065   Prob(JB):                         0.00\n",
      "Kurtosis:                     230.790   Cond. No.                     1.92e+05\n",
      "==============================================================================\n",
      "\n",
      "Notes:\n",
      "[1] Standard Errors assume that the covariance matrix of the errors is correctly specified.\n",
      "[2] The condition number is large, 1.92e+05. This might indicate that there are\n",
      "strong multicollinearity or other numerical problems.\n"
     ]
    }
   ],
   "source": [
    "X = sm.add_constant(X)\n",
    "model = sm.OLS(Y,X).fit()\n",
    "predictions = model.predict(X)\n",
    "print_model = model.summary()\n",
    "print(print_model)"
   ]
  },
  {
   "cell_type": "markdown",
   "metadata": {},
   "source": [
    "Let's convert DataFRame to multi-index DataFrame"
   ]
  },
  {
   "cell_type": "code",
   "execution_count": 16,
   "metadata": {
    "scrolled": true
   },
   "outputs": [
    {
     "name": "stdout",
     "output_type": "stream",
     "text": [
      "                  Country      Status  Life expectancy   Adult Mortality  \\\n",
      "Year                                                                       \n",
      "2015-01-01 0  Afghanistan  Developing              65.0            263.0   \n",
      "2014-01-01 1  Afghanistan  Developing              59.9            271.0   \n",
      "2013-01-01 2  Afghanistan  Developing              59.9            268.0   \n",
      "2012-01-01 3  Afghanistan  Developing              59.5            272.0   \n",
      "2011-01-01 4  Afghanistan  Developing              59.2            275.0   \n",
      "\n",
      "              infant deaths  Alcohol  percentage expenditure  Hepatitis B  \\\n",
      "Year                                                                        \n",
      "2015-01-01 0             62     0.01               71.279624         65.0   \n",
      "2014-01-01 1             64     0.01               73.523582         62.0   \n",
      "2013-01-01 2             66     0.01               73.219243         64.0   \n",
      "2012-01-01 3             69     0.01               78.184215         67.0   \n",
      "2011-01-01 4             71     0.01                7.097109         68.0   \n",
      "\n",
      "              Measles    BMI   under-five deaths   Polio  Total expenditure  \\\n",
      "Year                                                                          \n",
      "2015-01-01 0      1154   19.1                  83    6.0               8.16   \n",
      "2014-01-01 1       492   18.6                  86   58.0               8.18   \n",
      "2013-01-01 2       430   18.1                  89   62.0               8.13   \n",
      "2012-01-01 3      2787   17.6                  93   67.0               8.52   \n",
      "2011-01-01 4      3013   17.2                  97   68.0               7.87   \n",
      "\n",
      "              Diphtheria    HIV/AIDS         GDP  Population  \\\n",
      "Year                                                           \n",
      "2015-01-01 0         65.0        0.1  584.259210  33736494.0   \n",
      "2014-01-01 1         62.0        0.1  612.696514    327582.0   \n",
      "2013-01-01 2         64.0        0.1  631.744976  31731688.0   \n",
      "2012-01-01 3         67.0        0.1  669.959000   3696958.0   \n",
      "2011-01-01 4         68.0        0.1   63.537231   2978599.0   \n",
      "\n",
      "               thinness  1-19 years   thinness 5-9 years  \\\n",
      "Year                                                       \n",
      "2015-01-01 0                   17.2                 17.3   \n",
      "2014-01-01 1                   17.5                 17.5   \n",
      "2013-01-01 2                   17.7                 17.7   \n",
      "2012-01-01 3                   17.9                 18.0   \n",
      "2011-01-01 4                   18.2                 18.2   \n",
      "\n",
      "              Income composition of resources  Schooling  \n",
      "Year                                                      \n",
      "2015-01-01 0                            0.479       10.1  \n",
      "2014-01-01 1                            0.476       10.0  \n",
      "2013-01-01 2                            0.470        9.9  \n",
      "2012-01-01 3                            0.463        9.8  \n",
      "2011-01-01 4                            0.454        9.5  \n"
     ]
    }
   ],
   "source": [
    "df['Year'] = pd.to_datetime(df['Year'], format='%Y')\n",
    "#add column year to index\n",
    "df = df.set_index('Year', append=True)\n",
    "#swap indexes\n",
    "df.index = df.index.swaplevel(0,1)\n",
    "print(df.head())"
   ]
  },
  {
   "cell_type": "code",
   "execution_count": 17,
   "metadata": {},
   "outputs": [
    {
     "name": "stdout",
     "output_type": "stream",
     "text": [
      "                        RandomEffects Estimation Summary                        \n",
      "================================================================================\n",
      "Dep. Variable:             Population   R-squared:                        0.3440\n",
      "Estimator:              RandomEffects   R-squared (Between):              0.9395\n",
      "No. Observations:                2938   R-squared (Within):               0.3085\n",
      "Date:                Wed, Jan 20 2021   R-squared (Overall):              0.3440\n",
      "Time:                        17:49:12   Log-likelihood                -5.593e+04\n",
      "Cov. Estimator:             Clustered                                           \n",
      "                                        F-statistic:                      219.61\n",
      "Entities:                          16   P-value                           0.0000\n",
      "Avg Obs:                       183.62   Distribution:                  F(7,2931)\n",
      "Min Obs:                       183.00                                           \n",
      "Max Obs:                       193.00   F-statistic (robust):             111.56\n",
      "                                        P-value                           0.0000\n",
      "Time periods:                    2938   Distribution:                  F(7,2931)\n",
      "Avg Obs:                       1.0000                                           \n",
      "Min Obs:                       1.0000                                           \n",
      "Max Obs:                       1.0000                                           \n",
      "                                                                                \n",
      "                                   Parameter Estimates                                    \n",
      "==========================================================================================\n",
      "                        Parameter  Std. Err.     T-stat    P-value    Lower CI    Upper CI\n",
      "------------------------------------------------------------------------------------------\n",
      "Adult Mortality        -1.878e+04     7844.8    -2.3943     0.0167  -3.416e+04     -3401.0\n",
      "infant deaths           2.554e+05  7.178e+04     3.5577     0.0004   1.146e+05   3.961e+05\n",
      "GDP                        124.10     45.930     2.7018     0.0069      34.036      214.15\n",
      "Schooling               7.525e+05  2.812e+05     2.6760     0.0075   2.011e+05   1.304e+06\n",
      "percentage expenditure    -873.71     279.35    -3.1276     0.0018     -1421.5     -325.97\n",
      "Life expectancy        -1.368e+04  5.346e+04    -0.2558     0.7981  -1.185e+05   9.116e+04\n",
      "Alcohol                   -7277.8  1.352e+05    -0.0538     0.9571  -2.725e+05   2.579e+05\n",
      "==========================================================================================\n"
     ]
    }
   ],
   "source": [
    "from linearmodels import RandomEffects\n",
    "Y1 = df['Population']\n",
    "\n",
    "re = RandomEffects(Y1, df[['Adult Mortality','infant deaths','GDP','Schooling','percentage expenditure','Life expectancy ','Alcohol']])\n",
    "print(re.fit(cov_type = 'clustered', clustered_entity = True))"
   ]
  },
  {
   "cell_type": "code",
   "execution_count": 18,
   "metadata": {},
   "outputs": [
    {
     "name": "stdout",
     "output_type": "stream",
     "text": [
      "Adult Mortality           -18782.902666\n",
      "infant deaths             255368.195895\n",
      "GDP                          124.095110\n",
      "Schooling                 752473.683690\n",
      "percentage expenditure      -873.714057\n",
      "Life expectancy           -13675.654197\n",
      "Alcohol                    -7277.836270\n",
      "Name: parameter, dtype: float64\n"
     ]
    }
   ],
   "source": [
    "from linearmodels.panel import PanelOLS\n",
    "mod = PanelOLS(df['Population'], df[['Adult Mortality','infant deaths','GDP','Schooling','percentage expenditure','Life expectancy ','Alcohol']], entity_effects=False)\n",
    "res = mod.fit(cov_type='clustered', cluster_entity=True)\n",
    "print(res.params)"
   ]
  },
  {
   "cell_type": "code",
   "execution_count": 19,
   "metadata": {},
   "outputs": [
    {
     "name": "stdout",
     "output_type": "stream",
     "text": [
      "                          PanelOLS Estimation Summary                           \n",
      "================================================================================\n",
      "Dep. Variable:             Population   R-squared:                        0.3110\n",
      "Estimator:                   PanelOLS   R-squared (Between):             -0.0773\n",
      "No. Observations:                2938   R-squared (Within):               0.3110\n",
      "Date:                Wed, Jan 20 2021   R-squared (Overall):              0.3097\n",
      "Time:                        17:49:12   Log-likelihood                -5.592e+04\n",
      "Cov. Estimator:             Clustered                                           \n",
      "                                        F-statistic:                      187.97\n",
      "Entities:                          16   P-value                           0.0000\n",
      "Avg Obs:                       183.62   Distribution:                  F(7,2915)\n",
      "Min Obs:                       183.00                                           \n",
      "Max Obs:                       193.00   F-statistic (robust):             12.151\n",
      "                                        P-value                           0.0000\n",
      "Time periods:                    2938   Distribution:                  F(7,2915)\n",
      "Avg Obs:                       1.0000                                           \n",
      "Min Obs:                       1.0000                                           \n",
      "Max Obs:                       1.0000                                           \n",
      "                                                                                \n",
      "                                   Parameter Estimates                                    \n",
      "==========================================================================================\n",
      "                        Parameter  Std. Err.     T-stat    P-value    Lower CI    Upper CI\n",
      "------------------------------------------------------------------------------------------\n",
      "const                  -3.373e+07  1.579e+07    -2.1367     0.0327  -6.468e+07  -2.777e+06\n",
      "Adult Mortality            4490.7     8111.9     0.5536     0.5799  -1.141e+04    2.04e+04\n",
      "infant deaths           2.596e+05  7.344e+04     3.5342     0.0004   1.156e+05   4.036e+05\n",
      "GDP                        93.698     41.974     2.2323     0.0257      11.397      176.00\n",
      "Schooling               4.414e+05  2.232e+05     1.9780     0.0480      3842.0    8.79e+05\n",
      "percentage expenditure    -1066.2     274.64    -3.8821     0.0001     -1604.7     -527.67\n",
      "Life expectancy         4.737e+05  1.696e+05     2.7924     0.0053   1.411e+05   8.063e+05\n",
      "Alcohol                -2.605e+04  1.812e+05    -0.1438     0.8857  -3.813e+05   3.292e+05\n",
      "==========================================================================================\n",
      "\n",
      "F-test for Poolability: 0.9778\n",
      "P-value: 0.4759\n",
      "Distribution: F(15,2915)\n",
      "\n",
      "Included effects: Entity\n"
     ]
    }
   ],
   "source": [
    "from linearmodels import PanelOLS\n",
    "fe_mod = PanelOLS(df['Population'],sm.add_constant(df[['Adult Mortality','infant deaths','GDP','Schooling','percentage expenditure','Life expectancy ','Alcohol']]), entity_effects=True)\n",
    "fe_res = fe_mod.fit(cov_type='clustered', cluster_entity=True)\n",
    "print(fe_res)"
   ]
  },
  {
   "cell_type": "code",
   "execution_count": null,
   "metadata": {},
   "outputs": [],
   "source": []
  },
  {
   "cell_type": "code",
   "execution_count": 20,
   "metadata": {},
   "outputs": [
    {
     "data": {
      "text/html": [
       "<div>\n",
       "<style scoped>\n",
       "    .dataframe tbody tr th:only-of-type {\n",
       "        vertical-align: middle;\n",
       "    }\n",
       "\n",
       "    .dataframe tbody tr th {\n",
       "        vertical-align: top;\n",
       "    }\n",
       "\n",
       "    .dataframe thead th {\n",
       "        text-align: right;\n",
       "    }\n",
       "</style>\n",
       "<table border=\"1\" class=\"dataframe\">\n",
       "  <thead>\n",
       "    <tr style=\"text-align: right;\">\n",
       "      <th></th>\n",
       "      <th>variables</th>\n",
       "      <th>VIF</th>\n",
       "    </tr>\n",
       "  </thead>\n",
       "  <tbody>\n",
       "    <tr>\n",
       "      <th>0</th>\n",
       "      <td>Population</td>\n",
       "      <td>1.524480</td>\n",
       "    </tr>\n",
       "    <tr>\n",
       "      <th>1</th>\n",
       "      <td>Adult Mortality</td>\n",
       "      <td>2.370267</td>\n",
       "    </tr>\n",
       "    <tr>\n",
       "      <th>2</th>\n",
       "      <td>infant deaths</td>\n",
       "      <td>1.569348</td>\n",
       "    </tr>\n",
       "    <tr>\n",
       "      <th>3</th>\n",
       "      <td>GDP</td>\n",
       "      <td>6.595013</td>\n",
       "    </tr>\n",
       "    <tr>\n",
       "      <th>4</th>\n",
       "      <td>Schooling</td>\n",
       "      <td>33.744588</td>\n",
       "    </tr>\n",
       "    <tr>\n",
       "      <th>5</th>\n",
       "      <td>percentage expenditure</td>\n",
       "      <td>5.497802</td>\n",
       "    </tr>\n",
       "    <tr>\n",
       "      <th>6</th>\n",
       "      <td>Life expectancy</td>\n",
       "      <td>31.732579</td>\n",
       "    </tr>\n",
       "    <tr>\n",
       "      <th>7</th>\n",
       "      <td>Alcohol</td>\n",
       "      <td>3.259980</td>\n",
       "    </tr>\n",
       "  </tbody>\n",
       "</table>\n",
       "</div>"
      ],
      "text/plain": [
       "                variables        VIF\n",
       "0              Population   1.524480\n",
       "1         Adult Mortality   2.370267\n",
       "2           infant deaths   1.569348\n",
       "3                     GDP   6.595013\n",
       "4               Schooling  33.744588\n",
       "5  percentage expenditure   5.497802\n",
       "6        Life expectancy   31.732579\n",
       "7                 Alcohol   3.259980"
      ]
     },
     "execution_count": 20,
     "metadata": {},
     "output_type": "execute_result"
    }
   ],
   "source": [
    "from statsmodels.stats.outliers_influence import variance_inflation_factor\n",
    "\n",
    "def calc_vif(X):\n",
    "\n",
    "    # Calculating VIF\n",
    "    vif = pd.DataFrame()\n",
    "    vif[\"variables\"] = X.columns\n",
    "    vif[\"VIF\"] = [variance_inflation_factor(X.values, i) for i in range(X.shape[1])]\n",
    "\n",
    "    return(vif)\n",
    "calc_vif(df[['Population','Adult Mortality','infant deaths','GDP','Schooling','percentage expenditure','Life expectancy ','Alcohol']])"
   ]
  },
  {
   "cell_type": "markdown",
   "metadata": {},
   "source": [
    "After the following line I removed Life expectancy and Schooling"
   ]
  },
  {
   "cell_type": "code",
   "execution_count": 21,
   "metadata": {},
   "outputs": [
    {
     "data": {
      "text/html": [
       "<div>\n",
       "<style scoped>\n",
       "    .dataframe tbody tr th:only-of-type {\n",
       "        vertical-align: middle;\n",
       "    }\n",
       "\n",
       "    .dataframe tbody tr th {\n",
       "        vertical-align: top;\n",
       "    }\n",
       "\n",
       "    .dataframe thead th {\n",
       "        text-align: right;\n",
       "    }\n",
       "</style>\n",
       "<table border=\"1\" class=\"dataframe\">\n",
       "  <thead>\n",
       "    <tr style=\"text-align: right;\">\n",
       "      <th></th>\n",
       "      <th></th>\n",
       "      <th>Country</th>\n",
       "      <th>Status</th>\n",
       "      <th>Life expectancy</th>\n",
       "      <th>Adult Mortality</th>\n",
       "      <th>infant deaths</th>\n",
       "      <th>Alcohol</th>\n",
       "      <th>percentage expenditure</th>\n",
       "      <th>Hepatitis B</th>\n",
       "      <th>Measles</th>\n",
       "      <th>BMI</th>\n",
       "      <th>under-five deaths</th>\n",
       "      <th>Polio</th>\n",
       "      <th>Total expenditure</th>\n",
       "      <th>Diphtheria</th>\n",
       "      <th>HIV/AIDS</th>\n",
       "      <th>GDP</th>\n",
       "      <th>Population</th>\n",
       "      <th>thinness  1-19 years</th>\n",
       "      <th>thinness 5-9 years</th>\n",
       "      <th>Income composition of resources</th>\n",
       "      <th>Schooling</th>\n",
       "    </tr>\n",
       "    <tr>\n",
       "      <th>Year</th>\n",
       "      <th></th>\n",
       "      <th></th>\n",
       "      <th></th>\n",
       "      <th></th>\n",
       "      <th></th>\n",
       "      <th></th>\n",
       "      <th></th>\n",
       "      <th></th>\n",
       "      <th></th>\n",
       "      <th></th>\n",
       "      <th></th>\n",
       "      <th></th>\n",
       "      <th></th>\n",
       "      <th></th>\n",
       "      <th></th>\n",
       "      <th></th>\n",
       "      <th></th>\n",
       "      <th></th>\n",
       "      <th></th>\n",
       "      <th></th>\n",
       "      <th></th>\n",
       "      <th></th>\n",
       "    </tr>\n",
       "  </thead>\n",
       "  <tbody>\n",
       "    <tr>\n",
       "      <th>2015-01-01</th>\n",
       "      <th>0</th>\n",
       "      <td>Afghanistan</td>\n",
       "      <td>Developing</td>\n",
       "      <td>65.0</td>\n",
       "      <td>263.0</td>\n",
       "      <td>62</td>\n",
       "      <td>0.01</td>\n",
       "      <td>71.279624</td>\n",
       "      <td>65.0</td>\n",
       "      <td>1154</td>\n",
       "      <td>19.1</td>\n",
       "      <td>83</td>\n",
       "      <td>6.0</td>\n",
       "      <td>8.16</td>\n",
       "      <td>65.0</td>\n",
       "      <td>0.1</td>\n",
       "      <td>584.259210</td>\n",
       "      <td>33736494.0</td>\n",
       "      <td>17.2</td>\n",
       "      <td>17.3</td>\n",
       "      <td>0.479</td>\n",
       "      <td>10.1</td>\n",
       "    </tr>\n",
       "    <tr>\n",
       "      <th>2014-01-01</th>\n",
       "      <th>1</th>\n",
       "      <td>Afghanistan</td>\n",
       "      <td>Developing</td>\n",
       "      <td>59.9</td>\n",
       "      <td>271.0</td>\n",
       "      <td>64</td>\n",
       "      <td>0.01</td>\n",
       "      <td>73.523582</td>\n",
       "      <td>62.0</td>\n",
       "      <td>492</td>\n",
       "      <td>18.6</td>\n",
       "      <td>86</td>\n",
       "      <td>58.0</td>\n",
       "      <td>8.18</td>\n",
       "      <td>62.0</td>\n",
       "      <td>0.1</td>\n",
       "      <td>612.696514</td>\n",
       "      <td>327582.0</td>\n",
       "      <td>17.5</td>\n",
       "      <td>17.5</td>\n",
       "      <td>0.476</td>\n",
       "      <td>10.0</td>\n",
       "    </tr>\n",
       "    <tr>\n",
       "      <th>2013-01-01</th>\n",
       "      <th>2</th>\n",
       "      <td>Afghanistan</td>\n",
       "      <td>Developing</td>\n",
       "      <td>59.9</td>\n",
       "      <td>268.0</td>\n",
       "      <td>66</td>\n",
       "      <td>0.01</td>\n",
       "      <td>73.219243</td>\n",
       "      <td>64.0</td>\n",
       "      <td>430</td>\n",
       "      <td>18.1</td>\n",
       "      <td>89</td>\n",
       "      <td>62.0</td>\n",
       "      <td>8.13</td>\n",
       "      <td>64.0</td>\n",
       "      <td>0.1</td>\n",
       "      <td>631.744976</td>\n",
       "      <td>31731688.0</td>\n",
       "      <td>17.7</td>\n",
       "      <td>17.7</td>\n",
       "      <td>0.470</td>\n",
       "      <td>9.9</td>\n",
       "    </tr>\n",
       "    <tr>\n",
       "      <th>2012-01-01</th>\n",
       "      <th>3</th>\n",
       "      <td>Afghanistan</td>\n",
       "      <td>Developing</td>\n",
       "      <td>59.5</td>\n",
       "      <td>272.0</td>\n",
       "      <td>69</td>\n",
       "      <td>0.01</td>\n",
       "      <td>78.184215</td>\n",
       "      <td>67.0</td>\n",
       "      <td>2787</td>\n",
       "      <td>17.6</td>\n",
       "      <td>93</td>\n",
       "      <td>67.0</td>\n",
       "      <td>8.52</td>\n",
       "      <td>67.0</td>\n",
       "      <td>0.1</td>\n",
       "      <td>669.959000</td>\n",
       "      <td>3696958.0</td>\n",
       "      <td>17.9</td>\n",
       "      <td>18.0</td>\n",
       "      <td>0.463</td>\n",
       "      <td>9.8</td>\n",
       "    </tr>\n",
       "  </tbody>\n",
       "</table>\n",
       "</div>"
      ],
      "text/plain": [
       "                  Country      Status  Life expectancy   Adult Mortality  \\\n",
       "Year                                                                       \n",
       "2015-01-01 0  Afghanistan  Developing              65.0            263.0   \n",
       "2014-01-01 1  Afghanistan  Developing              59.9            271.0   \n",
       "2013-01-01 2  Afghanistan  Developing              59.9            268.0   \n",
       "2012-01-01 3  Afghanistan  Developing              59.5            272.0   \n",
       "\n",
       "              infant deaths  Alcohol  percentage expenditure  Hepatitis B  \\\n",
       "Year                                                                        \n",
       "2015-01-01 0             62     0.01               71.279624         65.0   \n",
       "2014-01-01 1             64     0.01               73.523582         62.0   \n",
       "2013-01-01 2             66     0.01               73.219243         64.0   \n",
       "2012-01-01 3             69     0.01               78.184215         67.0   \n",
       "\n",
       "              Measles    BMI   under-five deaths   Polio  Total expenditure  \\\n",
       "Year                                                                          \n",
       "2015-01-01 0      1154   19.1                  83    6.0               8.16   \n",
       "2014-01-01 1       492   18.6                  86   58.0               8.18   \n",
       "2013-01-01 2       430   18.1                  89   62.0               8.13   \n",
       "2012-01-01 3      2787   17.6                  93   67.0               8.52   \n",
       "\n",
       "              Diphtheria    HIV/AIDS         GDP  Population  \\\n",
       "Year                                                           \n",
       "2015-01-01 0         65.0        0.1  584.259210  33736494.0   \n",
       "2014-01-01 1         62.0        0.1  612.696514    327582.0   \n",
       "2013-01-01 2         64.0        0.1  631.744976  31731688.0   \n",
       "2012-01-01 3         67.0        0.1  669.959000   3696958.0   \n",
       "\n",
       "               thinness  1-19 years   thinness 5-9 years  \\\n",
       "Year                                                       \n",
       "2015-01-01 0                   17.2                 17.3   \n",
       "2014-01-01 1                   17.5                 17.5   \n",
       "2013-01-01 2                   17.7                 17.7   \n",
       "2012-01-01 3                   17.9                 18.0   \n",
       "\n",
       "              Income composition of resources  Schooling  \n",
       "Year                                                      \n",
       "2015-01-01 0                            0.479       10.1  \n",
       "2014-01-01 1                            0.476       10.0  \n",
       "2013-01-01 2                            0.470        9.9  \n",
       "2012-01-01 3                            0.463        9.8  "
      ]
     },
     "execution_count": 21,
     "metadata": {},
     "output_type": "execute_result"
    }
   ],
   "source": [
    "df[['Population','Adult Mortality','infant deaths','GDP','percentage expenditure','Alcohol']]\n",
    "df.head(4)"
   ]
  },
  {
   "cell_type": "markdown",
   "metadata": {},
   "source": [
    "Below I tried to normalize data with BoxCox"
   ]
  },
  {
   "cell_type": "code",
   "execution_count": 22,
   "metadata": {},
   "outputs": [],
   "source": [
    "import numpy as np\n",
    "from scipy import stats\n",
    "from sklearn.model_selection import train_test_split\n",
    "import seaborn as sns\n",
    "import matplotlib.pyplot as plt"
   ]
  },
  {
   "cell_type": "code",
   "execution_count": 23,
   "metadata": {},
   "outputs": [],
   "source": [
    "flat_arr = np.array(df[['Population','Adult Mortality','infant deaths','GDP','percentage expenditure','Alcohol']]).flatten()"
   ]
  },
  {
   "cell_type": "code",
   "execution_count": 24,
   "metadata": {},
   "outputs": [],
   "source": [
    "flat_arr = flat_arr[flat_arr > 0]"
   ]
  },
  {
   "cell_type": "code",
   "execution_count": 25,
   "metadata": {},
   "outputs": [
    {
     "data": {
      "text/plain": [
       "<AxesSubplot:>"
      ]
     },
     "execution_count": 25,
     "metadata": {},
     "output_type": "execute_result"
    },
    {
     "data": {
      "image/png": "[encoded data removed]",
      "text/plain": [
       "<Figure size 432x288 with 2 Axes>"
      ]
     },
     "metadata": {
      "needs_background": "light"
     },
     "output_type": "display_data"
    }
   ],
   "source": [
    "# split into testing & training data\n",
    "train,test = train_test_split(flat_arr,shuffle=False)\n",
    "\n",
    "# transform training data & save lambda value\n",
    "train_data,fitted_lambda = stats.boxcox(train)\n",
    "\n",
    "# use lambda value to transform test data\n",
    "test_data = stats.boxcox(test, fitted_lambda)\n",
    "\n",
    "fig, ax=plt.subplots(1,2)\n",
    "sns.distplot(train_data, ax=ax[0])\n",
    "sns.distplot(test_data, ax=ax[1])"
   ]
  },
  {
   "cell_type": "code",
   "execution_count": null,
   "metadata": {},
   "outputs": [],
   "source": []
  },
  {
   "cell_type": "markdown",
   "metadata": {},
   "source": [
    "Below I'll do a graphical representation of heteroscedasticity/ homoscedasticity"
   ]
  },
  {
   "cell_type": "code",
   "execution_count": null,
   "metadata": {},
   "outputs": [],
   "source": []
  },
  {
   "cell_type": "code",
   "execution_count": 26,
   "metadata": {},
   "outputs": [],
   "source": [
    "fe_res_resids = fe_res.predict().fitted_values\n",
    "fe_res_PAnelOLS = fe_res.resids"
   ]
  },
  {
   "cell_type": "code",
   "execution_count": 27,
   "metadata": {},
   "outputs": [],
   "source": [
    "import matplotlib.pyplot as plt"
   ]
  },
  {
   "cell_type": "code",
   "execution_count": 28,
   "metadata": {},
   "outputs": [
    {
     "data": {
      "image/png": "[encoded data removed]",
      "text/plain": [
       "<Figure size 432x288 with 1 Axes>"
      ]
     },
     "metadata": {
      "needs_background": "light"
     },
     "output_type": "display_data"
    }
   ],
   "source": [
    "fig, ax = plt.subplots()\n",
    "ax.scatter(fe_res_resids, fe_res_PAnelOLS, color = 'red')\n",
    "ax.axhline(0, color = 'r', ls = '--')\n",
    "ax.set_xlabel('Predicted Values', fontsize = 15)\n",
    "ax.set_ylabel('Residuals', fontsize = 15)\n",
    "ax.set_title('Homoskedasticity Test', fontsize = 30)\n",
    "plt.show()"
   ]
  },
  {
   "cell_type": "markdown",
   "metadata": {},
   "source": [
    "Autocorrelation cherck is the next step"
   ]
  },
  {
   "cell_type": "code",
   "execution_count": 29,
   "metadata": {},
   "outputs": [],
   "source": [
    "PanelOLSdataset = pd.concat([df[['Population','Adult Mortality','infant deaths','GDP','percentage expenditure','Alcohol']], fe_res_PAnelOLS], axis=1)"
   ]
  },
  {
   "cell_type": "code",
   "execution_count": 30,
   "metadata": {},
   "outputs": [
    {
     "name": "stdout",
     "output_type": "stream",
     "text": [
      "1.3346890188578144\n"
     ]
    }
   ],
   "source": [
    "from statsmodels.stats.stattools import durbin_watson\n",
    "\n",
    "durbin_watson_test_results = durbin_watson(PanelOLSdataset['residual']) \n",
    "print(durbin_watson_test_results)"
   ]
  },
  {
   "cell_type": "markdown",
   "metadata": {},
   "source": [
    "Check number of Developing and Developed countries"
   ]
  },
  {
   "cell_type": "code",
   "execution_count": 31,
   "metadata": {},
   "outputs": [
    {
     "data": {
      "text/plain": [
       "2426"
      ]
     },
     "execution_count": 31,
     "metadata": {},
     "output_type": "execute_result"
    }
   ],
   "source": [
    "len(df[df['Status'] == 'Developing'])"
   ]
  },
  {
   "cell_type": "code",
   "execution_count": 32,
   "metadata": {},
   "outputs": [
    {
     "data": {
      "text/plain": [
       "512"
      ]
     },
     "execution_count": 32,
     "metadata": {},
     "output_type": "execute_result"
    }
   ],
   "source": [
    "len(df[df['Status'] != 'Developing'])"
   ]
  },
  {
   "cell_type": "markdown",
   "metadata": {},
   "source": [
    "Below is my attempt to calculate Hausman effect in Python, but I opted for Stata as met major difficulties here"
   ]
  },
  {
   "cell_type": "markdown",
   "metadata": {},
   "source": [
    "import numpy.linalg as la\n",
    "from scipy import stats\n",
    "import numpy as np\n",
    "def hausman(fe, re):\n",
    "    b = fe.params\n",
    "    B = re.params\n",
    "    v_b = fe.cov\n",
    "    v_B = re.cov\n",
    "    df = b[np.abs(b) < 1e8].size\n",
    "    chi2 = np.dot((b - B).T, la.inv(v_b - v_B).dot(b - B)) \n",
    "\n",
    "    pval = stats.chi2.sf(chi2, df)\n",
    "    return chi2, df, pval\n",
    "hausman_results = hausman(fe_res, re_res) \n",
    "print('chi-Squared:' + str(hausman_results[0]))\n",
    "print('degrees of freedom:' + str(hausman_results[1]))\n",
    "print('p-Value:' + str(hausman_results[2]))"
   ]
  },
  {
   "cell_type": "code",
   "execution_count": null,
   "metadata": {},
   "outputs": [],
   "source": []
  },
  {
   "cell_type": "markdown",
   "metadata": {},
   "source": [
    "Below I'll implement logarithm on Population as it has too big number compared with other figures and it distorts our data"
   ]
  },
  {
   "cell_type": "code",
   "execution_count": 33,
   "metadata": {},
   "outputs": [
    {
     "data": {
      "text/plain": [
       "Year         \n",
       "2015-01-01  0    17.334091\n",
       "2014-01-01  1    12.699494\n",
       "2013-01-01  2    17.272826\n",
       "2012-01-01  3    15.123021\n",
       "Name: Population, dtype: float64"
      ]
     },
     "execution_count": 33,
     "metadata": {},
     "output_type": "execute_result"
    }
   ],
   "source": [
    "log_pop = np.log(df['Population'])\n",
    "log_pop.head(4)"
   ]
  },
  {
   "cell_type": "code",
   "execution_count": 34,
   "metadata": {},
   "outputs": [],
   "source": [
    "temp = pd.concat([df[['Adult Mortality','infant deaths','GDP','percentage expenditure','Alcohol','Schooling','Life expectancy ']], log_pop], axis=1)"
   ]
  },
  {
   "cell_type": "code",
   "execution_count": 35,
   "metadata": {},
   "outputs": [
    {
     "name": "stdout",
     "output_type": "stream",
     "text": [
      "                          PanelOLS Estimation Summary                           \n",
      "================================================================================\n",
      "Dep. Variable:             Population   R-squared:                        0.0726\n",
      "Estimator:                   PanelOLS   R-squared (Between):              0.1180\n",
      "No. Observations:                2938   R-squared (Within):               0.0726\n",
      "Date:                Wed, Jan 20 2021   R-squared (Overall):              0.0728\n",
      "Time:                        17:50:02   Log-likelihood                   -6814.3\n",
      "Cov. Estimator:             Clustered                                           \n",
      "                                        F-statistic:                      32.594\n",
      "Entities:                          16   P-value                           0.0000\n",
      "Avg Obs:                       183.62   Distribution:                  F(7,2915)\n",
      "Min Obs:                       183.00                                           \n",
      "Max Obs:                       193.00   F-statistic (robust):             41.930\n",
      "                                        P-value                           0.0000\n",
      "Time periods:                    2938   Distribution:                  F(7,2915)\n",
      "Avg Obs:                       1.0000                                           \n",
      "Min Obs:                       1.0000                                           \n",
      "Max Obs:                       1.0000                                           \n",
      "                                                                                \n",
      "                                   Parameter Estimates                                    \n",
      "==========================================================================================\n",
      "                        Parameter  Std. Err.     T-stat    P-value    Lower CI    Upper CI\n",
      "------------------------------------------------------------------------------------------\n",
      "const                      14.274     0.5370     26.579     0.0000      13.221      15.327\n",
      "Adult Mortality            0.0012     0.0003     3.6080     0.0003      0.0006      0.0019\n",
      "infant deaths              0.0042     0.0005     9.0624     0.0000      0.0033      0.0051\n",
      "GDP                     8.167e-05  1.316e-05     6.2069     0.0000   5.587e-05      0.0001\n",
      "Schooling                 -0.0124     0.0141    -0.8769     0.3806     -0.0401      0.0153\n",
      "percentage expenditure    -0.0005  8.205e-05    -5.7278     0.0000     -0.0006     -0.0003\n",
      "Life expectancy           -0.0055     0.0079    -0.6961     0.4864     -0.0209      0.0100\n",
      "Alcohol                    0.0218     0.0123     1.7686     0.0771     -0.0024      0.0459\n",
      "==========================================================================================\n",
      "\n",
      "F-test for Poolability: 0.7688\n",
      "P-value: 0.7138\n",
      "Distribution: F(15,2915)\n",
      "\n",
      "Included effects: Entity\n"
     ]
    }
   ],
   "source": [
    "from linearmodels import PanelOLS\n",
    "fe_mod1 = PanelOLS(log_pop,sm.add_constant(df[['Adult Mortality','infant deaths','GDP','Schooling','percentage expenditure','Life expectancy ','Alcohol']]), entity_effects=True)\n",
    "fe_res1 = fe_mod1.fit(cov_type='clustered', cluster_entity=True)\n",
    "print(fe_res1)"
   ]
  },
  {
   "cell_type": "code",
   "execution_count": 36,
   "metadata": {},
   "outputs": [
    {
     "data": {
      "text/html": [
       "<div>\n",
       "<style scoped>\n",
       "    .dataframe tbody tr th:only-of-type {\n",
       "        vertical-align: middle;\n",
       "    }\n",
       "\n",
       "    .dataframe tbody tr th {\n",
       "        vertical-align: top;\n",
       "    }\n",
       "\n",
       "    .dataframe thead th {\n",
       "        text-align: right;\n",
       "    }\n",
       "</style>\n",
       "<table border=\"1\" class=\"dataframe\">\n",
       "  <thead>\n",
       "    <tr style=\"text-align: right;\">\n",
       "      <th></th>\n",
       "      <th>variables</th>\n",
       "      <th>VIF</th>\n",
       "    </tr>\n",
       "  </thead>\n",
       "  <tbody>\n",
       "    <tr>\n",
       "      <th>0</th>\n",
       "      <td>Adult Mortality</td>\n",
       "      <td>3.054096</td>\n",
       "    </tr>\n",
       "    <tr>\n",
       "      <th>1</th>\n",
       "      <td>infant deaths</td>\n",
       "      <td>1.157907</td>\n",
       "    </tr>\n",
       "    <tr>\n",
       "      <th>2</th>\n",
       "      <td>GDP</td>\n",
       "      <td>6.729800</td>\n",
       "    </tr>\n",
       "    <tr>\n",
       "      <th>3</th>\n",
       "      <td>percentage expenditure</td>\n",
       "      <td>5.641484</td>\n",
       "    </tr>\n",
       "    <tr>\n",
       "      <th>4</th>\n",
       "      <td>Alcohol</td>\n",
       "      <td>3.263987</td>\n",
       "    </tr>\n",
       "    <tr>\n",
       "      <th>5</th>\n",
       "      <td>Schooling</td>\n",
       "      <td>33.873262</td>\n",
       "    </tr>\n",
       "    <tr>\n",
       "      <th>6</th>\n",
       "      <td>Life expectancy</td>\n",
       "      <td>56.868288</td>\n",
       "    </tr>\n",
       "    <tr>\n",
       "      <th>7</th>\n",
       "      <td>Population</td>\n",
       "      <td>29.319381</td>\n",
       "    </tr>\n",
       "  </tbody>\n",
       "</table>\n",
       "</div>"
      ],
      "text/plain": [
       "                variables        VIF\n",
       "0         Adult Mortality   3.054096\n",
       "1           infant deaths   1.157907\n",
       "2                     GDP   6.729800\n",
       "3  percentage expenditure   5.641484\n",
       "4                 Alcohol   3.263987\n",
       "5               Schooling  33.873262\n",
       "6        Life expectancy   56.868288\n",
       "7              Population  29.319381"
      ]
     },
     "execution_count": 36,
     "metadata": {},
     "output_type": "execute_result"
    }
   ],
   "source": [
    "from statsmodels.stats.outliers_influence import variance_inflation_factor\n",
    "\n",
    "def calc_vif(X):\n",
    "\n",
    "    # Calculating VIF\n",
    "    vif = pd.DataFrame()\n",
    "    vif[\"variables\"] = X.columns\n",
    "    vif[\"VIF\"] = [variance_inflation_factor(X.values, i) for i in range(X.shape[1])]\n",
    "\n",
    "    return(vif)\n",
    "calc_vif(temp)"
   ]
  },
  {
   "cell_type": "code",
   "execution_count": 37,
   "metadata": {},
   "outputs": [],
   "source": [
    "temp = pd.concat([df[['Adult Mortality','infant deaths','GDP','percentage expenditure','Alcohol']], log_pop], axis=1) "
   ]
  },
  {
   "cell_type": "code",
   "execution_count": 37,
   "metadata": {},
   "outputs": [
    {
     "data": {
      "text/html": [
       "<div>\n",
       "<style scoped>\n",
       "    .dataframe tbody tr th:only-of-type {\n",
       "        vertical-align: middle;\n",
       "    }\n",
       "\n",
       "    .dataframe tbody tr th {\n",
       "        vertical-align: top;\n",
       "    }\n",
       "\n",
       "    .dataframe thead th {\n",
       "        text-align: right;\n",
       "    }\n",
       "</style>\n",
       "<table border=\"1\" class=\"dataframe\">\n",
       "  <thead>\n",
       "    <tr style=\"text-align: right;\">\n",
       "      <th></th>\n",
       "      <th></th>\n",
       "      <th>Adult Mortality</th>\n",
       "      <th>infant deaths</th>\n",
       "      <th>GDP</th>\n",
       "      <th>percentage expenditure</th>\n",
       "      <th>Alcohol</th>\n",
       "      <th>Schooling</th>\n",
       "      <th>Life expectancy</th>\n",
       "      <th>Population</th>\n",
       "    </tr>\n",
       "    <tr>\n",
       "      <th>Year</th>\n",
       "      <th></th>\n",
       "      <th></th>\n",
       "      <th></th>\n",
       "      <th></th>\n",
       "      <th></th>\n",
       "      <th></th>\n",
       "      <th></th>\n",
       "      <th></th>\n",
       "      <th></th>\n",
       "    </tr>\n",
       "  </thead>\n",
       "  <tbody>\n",
       "    <tr>\n",
       "      <th>2015-01-01</th>\n",
       "      <th>0</th>\n",
       "      <td>263.0</td>\n",
       "      <td>62</td>\n",
       "      <td>584.259210</td>\n",
       "      <td>71.279624</td>\n",
       "      <td>0.01</td>\n",
       "      <td>10.1</td>\n",
       "      <td>65.0</td>\n",
       "      <td>17.334091</td>\n",
       "    </tr>\n",
       "    <tr>\n",
       "      <th>2014-01-01</th>\n",
       "      <th>1</th>\n",
       "      <td>271.0</td>\n",
       "      <td>64</td>\n",
       "      <td>612.696514</td>\n",
       "      <td>73.523582</td>\n",
       "      <td>0.01</td>\n",
       "      <td>10.0</td>\n",
       "      <td>59.9</td>\n",
       "      <td>12.699494</td>\n",
       "    </tr>\n",
       "    <tr>\n",
       "      <th>2013-01-01</th>\n",
       "      <th>2</th>\n",
       "      <td>268.0</td>\n",
       "      <td>66</td>\n",
       "      <td>631.744976</td>\n",
       "      <td>73.219243</td>\n",
       "      <td>0.01</td>\n",
       "      <td>9.9</td>\n",
       "      <td>59.9</td>\n",
       "      <td>17.272826</td>\n",
       "    </tr>\n",
       "    <tr>\n",
       "      <th>2012-01-01</th>\n",
       "      <th>3</th>\n",
       "      <td>272.0</td>\n",
       "      <td>69</td>\n",
       "      <td>669.959000</td>\n",
       "      <td>78.184215</td>\n",
       "      <td>0.01</td>\n",
       "      <td>9.8</td>\n",
       "      <td>59.5</td>\n",
       "      <td>15.123021</td>\n",
       "    </tr>\n",
       "    <tr>\n",
       "      <th>2011-01-01</th>\n",
       "      <th>4</th>\n",
       "      <td>275.0</td>\n",
       "      <td>71</td>\n",
       "      <td>63.537231</td>\n",
       "      <td>7.097109</td>\n",
       "      <td>0.01</td>\n",
       "      <td>9.5</td>\n",
       "      <td>59.2</td>\n",
       "      <td>14.906964</td>\n",
       "    </tr>\n",
       "  </tbody>\n",
       "</table>\n",
       "</div>"
      ],
      "text/plain": [
       "              Adult Mortality  infant deaths         GDP  \\\n",
       "Year                                                       \n",
       "2015-01-01 0            263.0             62  584.259210   \n",
       "2014-01-01 1            271.0             64  612.696514   \n",
       "2013-01-01 2            268.0             66  631.744976   \n",
       "2012-01-01 3            272.0             69  669.959000   \n",
       "2011-01-01 4            275.0             71   63.537231   \n",
       "\n",
       "              percentage expenditure  Alcohol  Schooling  Life expectancy   \\\n",
       "Year                                                                         \n",
       "2015-01-01 0               71.279624     0.01       10.1              65.0   \n",
       "2014-01-01 1               73.523582     0.01       10.0              59.9   \n",
       "2013-01-01 2               73.219243     0.01        9.9              59.9   \n",
       "2012-01-01 3               78.184215     0.01        9.8              59.5   \n",
       "2011-01-01 4                7.097109     0.01        9.5              59.2   \n",
       "\n",
       "              Population  \n",
       "Year                      \n",
       "2015-01-01 0   17.334091  \n",
       "2014-01-01 1   12.699494  \n",
       "2013-01-01 2   17.272826  \n",
       "2012-01-01 3   15.123021  \n",
       "2011-01-01 4   14.906964  "
      ]
     },
     "execution_count": 37,
     "metadata": {},
     "output_type": "execute_result"
    }
   ],
   "source": [
    "temp.head(5)"
   ]
  },
  {
   "cell_type": "code",
   "execution_count": 38,
   "metadata": {},
   "outputs": [],
   "source": [
    "fe_res_resids1 = fe_res1.predict().fitted_values\n",
    "fe_res_PAnelOLS1 = fe_res1.resids"
   ]
  },
  {
   "cell_type": "code",
   "execution_count": 39,
   "metadata": {},
   "outputs": [
    {
     "data": {
      "image/png": "[encoded data removed]",
      "text/plain": [
       "<Figure size 432x288 with 1 Axes>"
      ]
     },
     "metadata": {
      "needs_background": "light"
     },
     "output_type": "display_data"
    }
   ],
   "source": [
    "fig, ax = plt.subplots()\n",
    "ax.scatter(fe_res_resids1, fe_res_PAnelOLS1, color = 'red')\n",
    "ax.axhline(0, color = 'r', ls = '--')\n",
    "ax.set_xlabel('Predicted Values', fontsize = 15)\n",
    "ax.set_ylabel('Residuals', fontsize = 15)\n",
    "ax.set_title('Homoskedasticity Test', fontsize = 30)\n",
    "plt.show()"
   ]
  },
  {
   "cell_type": "code",
   "execution_count": 40,
   "metadata": {},
   "outputs": [],
   "source": [
    "PanelOLSdataset1 = pd.concat([temp, fe_res_PAnelOLS1], axis=1)"
   ]
  },
  {
   "cell_type": "code",
   "execution_count": 41,
   "metadata": {},
   "outputs": [
    {
     "name": "stdout",
     "output_type": "stream",
     "text": [
      "0.8798048321845205\n"
     ]
    }
   ],
   "source": [
    "from statsmodels.stats.stattools import durbin_watson\n",
    "\n",
    "durbin_watson_test_results = durbin_watson(PanelOLSdataset1['residual']) \n",
    "print(durbin_watson_test_results)"
   ]
  },
  {
   "cell_type": "code",
   "execution_count": null,
   "metadata": {},
   "outputs": [],
   "source": []
  }
 ],
 "metadata": {
  "kernelspec": {
   "display_name": "Python 3",
   "language": "python",
   "name": "python3"
  },
  "language_info": {
   "codemirror_mode": {
    "name": "ipython",
    "version": 3
   },
   "file_extension": ".py",
   "mimetype": "text/x-python",
   "name": "python",
   "nbconvert_exporter": "python",
   "pygments_lexer": "ipython3",
   "version": "3.7.9"
  }
 },
 "nbformat": 4,
 "nbformat_minor": 4
}
